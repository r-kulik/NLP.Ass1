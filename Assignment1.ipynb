{
 "cells": [
  {
   "cell_type": "markdown",
   "metadata": {
    "id": "RKboZnAdgrRM"
   },
   "source": [
    "# [NLP] Assignment 1: Tokenization\n",
    "\n",
    "In this assignment, you need to tokenize the text of the Twitter(X) users posts(tweets). The assignment consists of two tasks. When you finish all the tasks, create a GitHub repository for this assignment (you can use this repo later for the other assignments) and submit this notebook in the repository. Leave `requirements.txt` file if your code requires additional installations. Submit the link to the repository in Moodle.\n",
    "\n",
    "The [data](https://drive.google.com/file/d/15x_wPAflvYQ2Xh38iNQGrqUIWLj5l5Nw/view?usp=share_link) contains 5 files whereby each contains 44 tweets. Each tweet is separated by a newline."
   ]
  },
  {
   "cell_type": "markdown",
   "metadata": {
    "id": "aLDjjAvemUP_"
   },
   "source": [
    "## Task 1. Tokenize some tweets manually (20 points)\n",
    "\n",
    "As a first task you need to tokenize first 15 tweets from `file2` by hand. This will allow you to understand the problem from a linguistic point of view. The guidelines for tweet tokenization are as follows:\n",
    "\n",
    "- Each smiley is a separate token\n",
    "- Each hashtag is an individual token. Each user reference is an individual token\n",
    "- If a word has spaces between them then it is converted to a single token\n",
    "- All punctuations are individual tokens. This includes double-quotes and single quotes also\n",
    "- A URL is a single token\n",
    "\n",
    "Example of output\n",
    "\n",
    "    Input tweet\n",
    "    @xfranman Old age has made N A T O!\n",
    "\n",
    "    Tokenized tweet (separated by comma)\n",
    "    @xfranman , Old , age , has , made , NATO , !"
   ]
  },
  {
   "cell_type": "markdown",
   "metadata": {
    "id": "7KKKwTidnzUw"
   },
   "source": [
    "\n",
    "    1. Input tweet\n",
    "    Camping in Maine for the weekend. Hey Dad, Mama Loves YOU: http://www.mamapalooza.com\n",
    "    1. Tokenized tweet\n",
    "    Camping , in , Maine , for , the , weekend , . , Hey , Dad ,  , , , Mama , Loves , YOU , : , http://www.mamapalooza.com\n",
    "\n",
    "    2. Input tweet\n",
    "    Its american tradition bitch\n",
    "    2. Tokenized tweet\n",
    "    Its , american , tradition , bitch\n",
    "    \n",
    "    3. Input tweet\n",
    "    @ThroughTheVoid They love it! The only pleasure they get in life. I actually do that. I'm sure I hear a tiny squeak... Then louder ones\n",
    "    3. Tokenized tweet\n",
    "    @ThroughTheVoid , They , love , it, ! , The , only , pleasure , they , get , in , life , . , I , actually , do , that , . , I'm , sure , I , hear , a , tiny , squeak , ... , Then , louder , ones\n",
    "    \n",
    "    4. Input tweet\n",
    "    \" RT @latti: @AbsoHilare stop tweeting in church! Lol <--- \"\"I tweet because I'm happy, I tweet because I'm free\"\" LOL!\"\n",
    "    4. Tokenized tweet\n",
    "    \" , RT , @latti, : , @AbsoHilare , stop , tweeting , in , church, ! , Lol , <--- , \" , \" , I , tweet , because , I'm , happy , , , I , tweet , because , I'm , free , \" , \" , LOL , ! , \"\n",
    "    \n",
    "    5. Input tweet\n",
    "    Samsung Mini S2 portable HDD graced with colors that perfectly match your tacky beach gear: Sammy's done it aga.. http://tinyurl.com/lb5p6m\n",
    "    5. Tokenized tweet\n",
    "    Samsung , Mini , S2 , portable , HDD , graced , with , colors , that , perfectly , match , your , tacky , beach , gear , : , Sammy , 's , done , it , aga , .. , http://tinyurl.com/lb5p6m\n",
    "    \n",
    "\n",
    "    6. Input tweet\n",
    "    @dialloc congrats on finding your way over. it may be slow going at first. hang in there. it's kinda cool when u get up to speed.\n",
    "    6. Tokenized tweet\n",
    "    @dialloc , congrats , on , finding , your , way , over, . , it , may , be , slow , going , at , first , . , hang , in , there , . , it's , kinda , cool , when , u , get , up , to , speed , .\n",
    "    \n",
    "    7. Input tweet\n",
    "    iPhone activation delays continue, Apple offers $30 http://twt.gs/l3Ki\n",
    "    7. Tokenized tweet\n",
    "    iPhone , activation , delays , continue , , ,  Apple , offers , $ , 3 , 0 , http://twt.gs/l3Ki\n",
    "    \n",
    "    8. Input tweet\n",
    "    RT @GoogleAtWork Gmail maximum attachment size now 25MB http://bit.ly/62mjw Nice!!!\n",
    "    8. Tokenized tweet\n",
    "    RT , @GoogleAtWork , Gmail , maximum , attachment , size , now , 2 , 5 , MB , http://bit.ly/62mjw , Nice, ! , ! , !\n",
    "    \n",
    "    9. Input tweet\n",
    "    RT @acfou The Ads Won Awards for Crispin; But Did Nothing for Client BurgerKing's Sales/Marketshare - Big Surprise - http://ping.fm/vw8TI\n",
    "    9. Tokenized tweet\n",
    "    RT , @acfou , The , Ads , Won , Awards , for , Crispin , ; , But , Did , Nothing , for , Client , BurgerKing , 's , Sales , / , Marketshare , - , Big , Surprise , - , http://ping.fm/vw8TI\n",
    "    \n",
    "    10. Input tweet\n",
    "    Hey doll! Great I missed True Blood yday boo lol Rt @FrankBanuat78 @jhillstephens Hello Sunshine how are u today? :-)\n",
    "    10. Tokenized tweet\n",
    "    Hey , doll , ! , Great , I , missed , True , Blood , yday , boo , lol , Rt , @FrankBanuat78 , @jhillstephens , Hello , Sunshine , how , are , u , today , ? , :-)\n",
    "    \n",
    "    11. Input tweet\n",
    "    Australian artist Pogo made these free songs primarily from sampled audio from Alice In Wonderland. http://www.last.fm/music/Pogo/Wonderland\n",
    "    11. Tokenized tweet\n",
    "    Australian , artist , Pogo , made , these , free , songs , primarily , from , sampled , audio , from , Alice , In , Wonderland , . , http://www.last.fm/music/Pogo/Wonderland\n",
    "    \n",
    "    12. Input tweet\n",
    "    @mppritchard they wanted to sell all the preorders & then sell all of the ones they had in stock to those that just walked in. Can't do both\n",
    "    12. Tokenized tweet\n",
    "    @mppritchard , they , wanted , to , sell , all , the , preorders , & , then , sell , all , of , the , ones , they , had , in , stock , to , those , that , just , walked , in , . , Can , 't , do , both\n",
    "    \n",
    "    13. Input tweet\n",
    "    Incoming: Frightened Rabbit, Sept. 22 (Tucson): If Fat Cat Records is going to send three great bands from Scot.. http://tinyurl.com/nz6xcv\n",
    "    13. Tokenized tweet\n",
    "    Incoming , : , Frightened , Rabbit , , , Sept. , 22 , ( , Tucson , ) , : , If , Fat , Cat , Records , is , going , to , send , three , great , bands , from , Scot , . , . , http://tinyurl.com/nz6xcv\n",
    "    \n",
    "    14. Input tweet\n",
    "    Hey @ginoandfran please greet philip! (GinoandFran live > http://ustre.am/2YyQ)\n",
    "    14. Tokenized tweet\n",
    "    Hey , @ginoandfran , please , greet , philip , ! , ( , GinoandFran , live , > , http://ustre.am/2YyQ , ) \n",
    "    \n",
    "    15. Input tweet\n",
    "    Ik weet niet wie er achter de T-Mobile iPhone Twitter zit maar ik vind het niet echt 'corporate' taalgebruik... Best vreemd eigenlijk\n",
    "    15. Tokenized tweet\n",
    "    Ik , weet , niet , wie , er , achter , de , T-Mobile , iPhone , Twitter , zit , maar , ik , vind , het , niet , echt , ' ,corporate , ' , taalgebruik , ... , Best , vreemd , eigenlijk"
   ]
  },
  {
   "cell_type": "markdown",
   "metadata": {
    "id": "-2J2AD2nmUhi"
   },
   "source": [
    "## Task 2. Implement [Byte-Pair Encoding(BPE)](https://arxiv.org/pdf/1508.07909.pdf) Tokenizer (80 points)\n",
    "\n",
    "### Task 2.1. Implementation (60 points)\n",
    "\n",
    "Implement the tokenizer as the BPETokenizer class:\n",
    "* Implement `train` method that learns merges and builds the vocabulary of the specified `vocab_size` (25 points).\n",
    "* Implement `tokenize` method that should tokenize the text according to the learnt merges (25 points).\n",
    "\n",
    "Your code should have docstrings and comments (10 points)."
   ]
  },
  {
   "cell_type": "code",
   "execution_count": 97,
   "metadata": {
    "ExecuteTime": {
     "end_time": "2024-02-12T12:57:59.499831400Z",
     "start_time": "2024-02-12T12:57:59.479625800Z"
    }
   },
   "outputs": [],
   "source": [
    "from typing import List\n",
    "from pprint import pprint\n",
    "\n",
    "import numpy as np\n",
    "import tqdm\n",
    "\n",
    "\n",
    "class BPETokenizer:\n",
    "\n",
    "    def __init__(self, vocab_size: int) -> None:\n",
    "        \"\"\"\n",
    "        Initialization of the tokenizer \n",
    "        :param vocab_size: Maximum size of the tokenizer vocabular dictionary. After reaching this size, training will stop\n",
    "        \"\"\"\n",
    "        self.vocab_size = vocab_size\n",
    "        self.vocabulary = set() \n",
    "        self.merges: list[tuple[str]] = []  # list of merge instructions. For example: ('eg', 'g') -> 'egg'\n",
    "\n",
    "    def train(self, corpus: List[str]) -> None:\n",
    "        \"\"\"\n",
    "        :param corpus: List of sentences tokenizer to train on\n",
    "        :return: None, but after complete of this function, tokenizer is ready to use \n",
    "        \"\"\"\n",
    "        \n",
    "        # \"First iteration\" of the algorithm: breaking text into the array of characters, constructing the first\n",
    "        # iteration vocabulary — set of characters used in the corpus\n",
    "        # Also at this iteration spaces are deleted from the text\n",
    "        \n",
    "        tokenized_corpus = []\n",
    "        for message in corpus:\n",
    "            for word in message.split():\n",
    "                tokenized_word = []\n",
    "                for letter in word:\n",
    "                    if letter != ' ':\n",
    "                        self.vocabulary.add(letter)\n",
    "                        tokenized_word.append(letter)\n",
    "                tokenized_corpus.append(tokenized_word)            \n",
    "        \n",
    "        \n",
    "        # Main loop of the training cycle\n",
    "        # 1. Detect two most frequent adjacent symbols, \n",
    "        # 2. Concatenate them and remember, \n",
    "        # 3. Repeat until max vocabulary size is not reached\n",
    "        while True:\n",
    "            # detect most frequent pair of symbols to merge:\n",
    "            frequency_dictionary = {}\n",
    "            for tokenized_word in tokenized_corpus:\n",
    "                for token_index in range(len(tokenized_word) - 1):\n",
    "                    pair = (tokenized_word[token_index], tokenized_word[token_index + 1])\n",
    "                    frequency_dictionary[pair] = frequency_dictionary.get(pair, 0) + 1\n",
    "            \n",
    "            \n",
    "            if len(frequency_dictionary) == 0: # If there is no pair of tokens available for merging (all words are tokens already) \n",
    "                break                          # we are breaking the cycle, even if the max vocabulary size has not been reached\n",
    "            \n",
    "            most_frequent_pair = max(frequency_dictionary, key=frequency_dictionary.get)\n",
    "            most_frequent_pair_merged = most_frequent_pair[0] + most_frequent_pair[1]\n",
    "            self.vocabulary.add(most_frequent_pair_merged)  # adding tokens to vocabulary\n",
    "            self.merges.append(most_frequent_pair)          # remember how to merge them correctly\n",
    "            \n",
    "            \n",
    "            # merging all tokens that are members of the current most frequent pair of tokens\n",
    "            \n",
    "            for tokenized_word in tokenized_corpus:\n",
    "                token_index = 0\n",
    "                while token_index < len(tokenized_word) - 1:\n",
    "                    try: pair = (tokenized_word[token_index], tokenized_word[token_index + 1])\n",
    "                    except IndexError: print(token_index, tokenized_word)\n",
    "                    if pair == most_frequent_pair:\n",
    "                        tokenized_word[token_index] = most_frequent_pair_merged\n",
    "                        tokenized_word.pop(token_index + 1)\n",
    "                        continue\n",
    "                    token_index += 1\n",
    "            if len(self.vocabulary) >= self.vocab_size:  # when maximum vocabulary size is reached, exiting the loop\n",
    "                break\n",
    "\n",
    "    def tokenize(self, text: str) -> List[str]:\n",
    "        \"\"\"\n",
    "        \n",
    "        :param text: String of characters (words) as playing text in natural language \n",
    "        :return: List of tokens constructed from the text with information learned from tokenizer training\n",
    "        \"\"\"\n",
    "        \n",
    "        \n",
    "        \n",
    "        tokenized_corpus = []                                       # Preparing the text for the tokenization\n",
    "        for word in text.split():                                   #\n",
    "            tokenized_word = []                                     #   \n",
    "            for letter in word:                                     #\n",
    "                if letter != ' ':                                   #  by braking into characters to merge later \n",
    "                    tokenized_word.append(letter)                   #   and deleting the spaces\n",
    "            tokenized_corpus.append(tokenized_word)                 #\n",
    "            \n",
    "            \n",
    "        for merge in self.merges:                                                               # Then, iterating by all merging\n",
    "            for tokenized_word in tokenized_corpus:                                             # instructions, applying them\n",
    "                token_index = 0                                                                 # on each word from the corpus\n",
    "                while token_index < len(tokenized_word) - 1:\n",
    "                    pair = (tokenized_word[token_index], tokenized_word[token_index + 1])\n",
    "                    if pair == merge:\n",
    "                        tokenized_word[token_index] = pair[0] + pair[1]\n",
    "                        tokenized_word.pop(token_index + 1)\n",
    "                    token_index += 1 \n",
    "        answer = []                                                                             # After that, concatenating the\n",
    "        for word in tokenized_corpus:                                                           # array of tokenized words\n",
    "            answer+= word                                                                       # into one big return array\n",
    "        return answer"
   ]
  },
  {
   "cell_type": "markdown",
   "source": [],
   "metadata": {
    "collapsed": false
   }
  },
  {
   "cell_type": "markdown",
   "metadata": {},
   "source": [
    "### Task 2.2. Analysis on Tweets Dataset (10 points)\n",
    "\n",
    "Train the BPE tokenizer on the tweets dataset. Try to tokenize the tweets with the tokenizer of different `vocab_size`. For example, train the BPE tokenizer with `vocab_size` of [base_vocab_size, 250, 500, 750, 1000]. Plot the dependency of the average length of the tokenized tweet by `vocab_size` to analyze how `vocab_size` affects the length of the tokenized tweet on average. Tell what `vocab_size` is preferrable and why."
   ]
  },
  {
   "cell_type": "code",
   "execution_count": 96,
   "metadata": {
    "ExecuteTime": {
     "end_time": "2024-02-12T12:32:12.328695800Z",
     "start_time": "2024-02-12T12:31:48.092946900Z"
    }
   },
   "outputs": [
    {
     "name": "stderr",
     "output_type": "stream",
     "text": [
      "100%|██████████| 20/20 [00:24<00:00,  1.21s/it]\n"
     ]
    },
    {
     "data": {
      "text/plain": "[<matplotlib.lines.Line2D at 0x21e506d51d0>]"
     },
     "execution_count": 96,
     "metadata": {},
     "output_type": "execute_result"
    },
    {
     "data": {
      "text/plain": "<Figure size 640x480 with 1 Axes>",
      "image/png": "[encoded data removed]"
     },
     "metadata": {},
     "output_type": "display_data"
    }
   ],
   "source": [
    "import numpy as np\n",
    "import tqdm\n",
    "import matplotlib.pyplot as plt\n",
    "\n",
    "corpus = []\n",
    "for i in range(1, 5 + 1):                                   # Concatenating all tweets from several files into one corpus\n",
    "    with open(f'file{i}', 'r', encoding='utf-8') as file:\n",
    "        candidate = map(lambda x: x.lower(), filter(lambda x: len(x) > 0,  file.read().split('\\n')))\n",
    "        corpus += candidate\n",
    "        \n",
    "\n",
    "# defining two arrays to store arguments and results of experiments\n",
    "candidates_vocab_sizes = np.linspace(50, 1000, 20)              \n",
    "results = []\n",
    "\n",
    "# and run experiments\n",
    "for candidates_vocab_size in tqdm.tqdm(candidates_vocab_sizes):                 # In each experiment\n",
    "    tokenizer = BPETokenizer(candidates_vocab_size)                             # We use different maximum vocabulary size\n",
    "    tokenizer.train(corpus)                                                     # to see the average token amount in the tweet\n",
    "    lengths = []\n",
    "    for tweet in corpus:\n",
    "        tokenized_tweet = tokenizer.tokenize(tweet)\n",
    "        lengths.append(len(tokenized_tweet))\n",
    "    results.append(sum(lengths) / len(lengths))\n",
    "\n",
    "plt.plot(candidates_vocab_sizes, results)"
   ]
  },
  {
   "cell_type": "markdown",
   "source": [
    "__Conclusion:__\n",
    "\n",
    "Because we deleted spaces in our corpus and break it by words, higher vocabulary size means better tokenization. Hence, we have 1891 different words in this corpus, we have maximum possible capacity of vocabulary approximately equal to 5000. So, 1000 is applicable vocabulary size and it is the best option from the discussed above."
   ],
   "metadata": {
    "collapsed": false
   }
  },
  {
   "cell_type": "markdown",
   "metadata": {},
   "source": [
    "### Task 2.3. Analysis on Dataset of Different Language (10 points)\n",
    "\n",
    "Find a small dataset of texts in a language other than English. The dataset size should be not greater than several megabytes.\n",
    "\n",
    "Train the BPE tokenizer on the dataset that you found. Try to tokenize the sentences from this dataset with the tokenizer of different `vocab_size`. Plot the dependency of the average length of the tokenized sentence by `vocab_size` to analyze how `vocab_size` affects the length of the tokenized sentence on average.\n",
    "\n",
    "Tell how how the average length of the tokenized sentence differs from the average length of the tokenized tweet. Explain why. "
   ]
  },
  {
   "cell_type": "markdown",
   "source": [
    "For this task I will use the \"A SCANDAL IN BOHEMIA\" plot by Doyle, A.C. (1892)."
   ],
   "metadata": {
    "collapsed": false
   }
  },
  {
   "cell_type": "code",
   "execution_count": 95,
   "metadata": {
    "ExecuteTime": {
     "end_time": "2024-02-12T12:30:42.138464Z",
     "start_time": "2024-02-12T12:27:33.594105800Z"
    }
   },
   "outputs": [
    {
     "name": "stderr",
     "output_type": "stream",
     "text": [
      "100%|██████████| 25/25 [03:08<00:00,  7.54s/it]\n"
     ]
    },
    {
     "data": {
      "text/plain": "[<matplotlib.lines.Line2D at 0x21e4fc86ed0>]"
     },
     "execution_count": 95,
     "metadata": {},
     "output_type": "execute_result"
    },
    {
     "data": {
      "text/plain": "<Figure size 640x480 with 1 Axes>",
      "image/png": "[encoded data removed]"
     },
     "metadata": {},
     "output_type": "display_data"
    }
   ],
   "source": [
    "corpus = []\n",
    "with open('holmes.txt', 'r', encoding='utf-8') as file:\n",
    "    text = file.read()\n",
    "    for line in text.split('\\n'):\n",
    "        if line == '': continue\n",
    "        corpus += filter(lambda x: x != '', (x.lower() for x in line.split('.')))\n",
    "\n",
    "candidates_vocab_sizes = np.linspace(250, 5000, 25)\n",
    "results = []\n",
    "for candidates_vocab_size in tqdm.tqdm(candidates_vocab_sizes):\n",
    "    tokenizer = BPETokenizer(candidates_vocab_size)\n",
    "    tokenizer.train(corpus)\n",
    "    token_amounts = []\n",
    "    for sentence in corpus:\n",
    "        tokenized_sentence = tokenizer.tokenize(sentence)\n",
    "        token_amounts.append(len(tokenized_sentence))\n",
    "    results.append(sum(token_amounts) / len(token_amounts))\n",
    "\n",
    "plt.plot(candidates_vocab_sizes, results)"
   ]
  },
  {
   "cell_type": "markdown",
   "source": [
    "As we can see, if we use 1000 as a maximum size of vocabulary for the tokenizer, in case of tweets, the average length of tweet in terms of tokens is higher, than in the plot. There are several reasons in my opinion:\n",
    "* Dataset of tweets consists of different unconnected by theme tweets, therefore amount of different topics (different words) is higher than in the plot based on singular story.\n",
    "* Tweet himself usually equal to the sentence by its size, but there is no limitation for it to be constructed from several \"average\" sentences. Therefore it is incorrect to compare tweets and sentences from the plot\n",
    "\n",
    "* Sir Doyle used in his plot only dictionary English Language, while in the tweets there are links, slang and other languages, therefore we need more tokens to cover the diversity of words in these tweets.\n",
    "\n",
    "__Conclusion__: Cause these two datasets have different nature, we can not compare them quantitatively."
   ],
   "metadata": {
    "collapsed": false
   }
  },
  {
   "cell_type": "code",
   "execution_count": null,
   "outputs": [],
   "source": [],
   "metadata": {
    "collapsed": false
   }
  }
 ],
 "metadata": {
  "colab": {
   "provenance": [],
   "toc_visible": true
  },
  "kernelspec": {
   "name": "python3",
   "language": "python",
   "display_name": "Python 3 (ipykernel)"
  },
  "language_info": {
   "name": "python"
  }
 },
 "nbformat": 4,
 "nbformat_minor": 0
}
